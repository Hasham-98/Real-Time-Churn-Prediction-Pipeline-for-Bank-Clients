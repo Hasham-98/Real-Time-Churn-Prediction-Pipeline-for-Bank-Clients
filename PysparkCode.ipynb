{
 "cells": [
  {
   "cell_type": "code",
   "execution_count": 1,
   "id": "f67d81fd-3a0a-48ab-85be-fa33ac339c38",
   "metadata": {},
   "outputs": [
    {
     "data": {
      "text/html": [
       "<style>pre { white-space: pre !important; }</style>"
      ],
      "text/plain": [
       "<IPython.core.display.HTML object>"
      ]
     },
     "metadata": {},
     "output_type": "display_data"
    }
   ],
   "source": [
    "from IPython.display import display, HTML\n",
    "display(HTML(\"<style>pre { white-space: pre !important; }</style>\"))"
   ]
  },
  {
   "cell_type": "code",
   "execution_count": 2,
   "id": "47f210ea-b241-40d9-9e00-c0ffdd5ddd0c",
   "metadata": {},
   "outputs": [],
   "source": [
    "import findspark\n",
    "import pyspark"
   ]
  },
  {
   "cell_type": "code",
   "execution_count": 3,
   "id": "424f68cd-c696-41eb-8298-f8f4a5756414",
   "metadata": {},
   "outputs": [],
   "source": [
    "from pyspark.sql.functions import *\n",
    "import pyspark.sql.functions as f"
   ]
  },
  {
   "cell_type": "code",
   "execution_count": 4,
   "id": "bea4b224-df19-44fa-9652-76bbb448d233",
   "metadata": {},
   "outputs": [],
   "source": [
    "from pyspark.sql import SparkSession\n",
    "from pyspark.sql.functions import col, from_json, explode\n",
    "from pyspark.sql.types import StructType, StructField, StringType, IntegerType, DoubleType, ArrayType"
   ]
  },
  {
   "cell_type": "code",
   "execution_count": 5,
   "id": "d9c0d1ce-f82a-4ea1-80e1-2aee0524bd06",
   "metadata": {},
   "outputs": [
    {
     "name": "stderr",
     "output_type": "stream",
     "text": [
      "24/09/25 21:41:14 WARN SparkSession: Using an existing Spark session; only runtime SQL configurations will take effect.\n"
     ]
    }
   ],
   "source": [
    "# Initialize Spark session\n",
    "spark = SparkSession.builder.appName(\"KafkaBatchConsumer\").getOrCreate()\n"
   ]
  },
  {
   "cell_type": "code",
   "execution_count": 6,
   "id": "18e5af53-c97b-48de-a470-ada7b8fa412e",
   "metadata": {},
   "outputs": [],
   "source": [
    "\n",
    "# Define the schema for a single row (one row in the batch)\n",
    "row_schema = StructType([\n",
    "    StructField(\"RowNumber\", StringType(), True),\n",
    "    StructField(\"CustomerId\", StringType(), True),\n",
    "    StructField(\"Surname\", StringType(), True),\n",
    "    StructField(\"CreditScore\", StringType(), True),\n",
    "    StructField(\"Geography\", StringType(), True),\n",
    "    StructField(\"Gender\", StringType(), True),\n",
    "    StructField(\"Age\", StringType(), True),\n",
    "    StructField(\"Tenure\", StringType(), True),\n",
    "    StructField(\"Balance\", StringType(), True),\n",
    "    StructField(\"NumOfProducts\", StringType(), True),\n",
    "    StructField(\"HasCrCard\", StringType(), True),\n",
    "    StructField(\"IsActiveMember\", StringType(), True),\n",
    "    StructField(\"EstimatedSalary\", StringType(), True),\n",
    "    StructField(\"Exited\", StringType(), True)\n",
    "])"
   ]
  },
  {
   "cell_type": "code",
   "execution_count": 7,
   "id": "476321fa-6c62-4e99-a220-2d2b3c505a48",
   "metadata": {},
   "outputs": [],
   "source": [
    "# The entire batch is an array of rows\n",
    "batch_schema = ArrayType(row_schema)"
   ]
  },
  {
   "cell_type": "code",
   "execution_count": 8,
   "id": "0c01cc2f-3ba4-4a6e-ba71-758b845fe0c2",
   "metadata": {},
   "outputs": [],
   "source": [
    "# Read data from Kafka topic\n",
    "df = spark \\\n",
    "    .readStream \\\n",
    "    .format(\"kafka\") \\\n",
    "    .option(\"kafka.bootstrap.servers\", \"localhost:9092\") \\\n",
    "    .option(\"subscribe\", \"streamig-bank-data\") \\\n",
    "    .option(\"startingOffsets\", \"earliest\")\\\n",
    "    .load()"
   ]
  },
  {
   "cell_type": "code",
   "execution_count": 9,
   "id": "0ff888c3-3c26-4244-afea-a64109ab4bbc",
   "metadata": {},
   "outputs": [
    {
     "name": "stdout",
     "output_type": "stream",
     "text": [
      "root\n",
      " |-- key: binary (nullable = true)\n",
      " |-- value: binary (nullable = true)\n",
      " |-- topic: string (nullable = true)\n",
      " |-- partition: integer (nullable = true)\n",
      " |-- offset: long (nullable = true)\n",
      " |-- timestamp: timestamp (nullable = true)\n",
      " |-- timestampType: integer (nullable = true)\n",
      "\n"
     ]
    }
   ],
   "source": [
    "df.printSchema()"
   ]
  },
  {
   "cell_type": "code",
   "execution_count": 12,
   "id": "ed60496d-e09c-4687-8b7b-237945489362",
   "metadata": {},
   "outputs": [],
   "source": [
    "# Kafka sends data in key-value format, so we convert it to string\n",
    "df_kafka = df.selectExpr(\"CAST(value AS STRING)\")"
   ]
  },
  {
   "cell_type": "code",
   "execution_count": 13,
   "id": "a7d4def7-a6f2-4292-b41b-b332878f9e85",
   "metadata": {},
   "outputs": [],
   "source": [
    "# Parse the JSON data (assuming each message is a batch of 1000 rows)\n",
    "df_parsed = df_kafka \\\n",
    "    .select(from_json(col(\"value\"), batch_schema).alias(\"data\")) \\\n",
    "    .select(explode(col(\"data\")).alias(\"row\"))  # Explode the array of rows"
   ]
  },
  {
   "cell_type": "code",
   "execution_count": 14,
   "id": "aabacbbb-db8d-47a9-886a-aa81ac1b0c41",
   "metadata": {},
   "outputs": [
    {
     "name": "stdout",
     "output_type": "stream",
     "text": [
      "root\n",
      " |-- row: struct (nullable = true)\n",
      " |    |-- RowNumber: string (nullable = true)\n",
      " |    |-- CustomerId: string (nullable = true)\n",
      " |    |-- Surname: string (nullable = true)\n",
      " |    |-- CreditScore: string (nullable = true)\n",
      " |    |-- Geography: string (nullable = true)\n",
      " |    |-- Gender: string (nullable = true)\n",
      " |    |-- Age: string (nullable = true)\n",
      " |    |-- Tenure: string (nullable = true)\n",
      " |    |-- Balance: string (nullable = true)\n",
      " |    |-- NumOfProducts: string (nullable = true)\n",
      " |    |-- HasCrCard: string (nullable = true)\n",
      " |    |-- IsActiveMember: string (nullable = true)\n",
      " |    |-- EstimatedSalary: string (nullable = true)\n",
      " |    |-- Exited: string (nullable = true)\n",
      "\n"
     ]
    }
   ],
   "source": [
    "df_parsed.printSchema()"
   ]
  },
  {
   "cell_type": "code",
   "execution_count": 15,
   "id": "afe236c1-50c9-40d8-830b-609188b0a6e8",
   "metadata": {},
   "outputs": [],
   "source": [
    "\n",
    "# Cast columns to appropriate types\n",
    "df_casted = df_parsed.select(\n",
    "    col(\"row.RowNumber\").cast(IntegerType()),\n",
    "    col(\"row.CustomerId\").cast(IntegerType()),\n",
    "    col(\"row.Surname\"),\n",
    "    col(\"row.CreditScore\").cast(IntegerType()),\n",
    "    col(\"row.Geography\"),\n",
    "    col(\"row.Gender\"),\n",
    "    col(\"row.Age\").cast(IntegerType()),\n",
    "    col(\"row.Tenure\").cast(IntegerType()),\n",
    "    col(\"row.Balance\").cast(DoubleType()),\n",
    "    col(\"row.NumOfProducts\").cast(IntegerType()),\n",
    "    col(\"row.HasCrCard\").cast(IntegerType()),\n",
    "    col(\"row.IsActiveMember\").cast(IntegerType()),\n",
    "    col(\"row.EstimatedSalary\").cast(DoubleType()),\n",
    "    col(\"row.Exited\").cast(IntegerType())\n",
    ")"
   ]
  },
  {
   "cell_type": "code",
   "execution_count": null,
   "id": "e241f303-37e8-42b9-998e-069b8d1d5bbb",
   "metadata": {},
   "outputs": [],
   "source": [
    "# Start the query\n",
    "query = df_casted \\\n",
    "            .writeStream \\\n",
    "            .format(\"csv\") \\\n",
    "            .option(\"path\", \"/home/wick/final_project/bank_data/\") \\\n",
    "            .option(\"checkpointLocation\", \"/home/wick/final_project/chkpnt/\") \\\n",
    "            .outputMode(\"append\") \\\n",
    "            .start()\n",
    "\n",
    "import time\n",
    "\n",
    "start_time = time.time()\n",
    "\n",
    "while query.isActive:\n",
    "    # Check if 30 minutes have passed\n",
    "    if time.time() - start_time > 1800:\n",
    "        query.stop()  # Stop after 30 minutes\n",
    "    time.sleep(10)  # Check every 10 seconds\n"
   ]
  },
  {
   "cell_type": "code",
   "execution_count": 6,
   "id": "43e75a64-ca9f-4f3d-9ef5-e1d64124968a",
   "metadata": {},
   "outputs": [
    {
     "name": "stderr",
     "output_type": "stream",
     "text": [
      "24/09/25 18:38:04 WARN SparkSession: Using an existing Spark session; only runtime SQL configurations will take effect.\n"
     ]
    }
   ],
   "source": [
    "from pyspark.sql import SparkSession\n",
    "from pyspark.sql.types import StructType, StructField, StringType, IntegerType, DoubleType\n",
    "\n",
    "# Create a Spark session\n",
    "spark = SparkSession.builder.appName(\"Read CSV files\").getOrCreate()\n"
   ]
  },
  {
   "cell_type": "code",
   "execution_count": 7,
   "id": "c7b5b752-529a-4003-8759-6329a8a09151",
   "metadata": {},
   "outputs": [],
   "source": [
    "# Define the schema\n",
    "schema = StructType([\n",
    "    StructField(\"RowNumber\", IntegerType(), True),\n",
    "    StructField(\"CustomerId\", IntegerType(), True),\n",
    "    StructField(\"Surname\", StringType(), True),\n",
    "    StructField(\"CreditScore\", IntegerType(), True),\n",
    "    StructField(\"Geography\", StringType(), True),\n",
    "    StructField(\"Gender\", StringType(), True),\n",
    "    StructField(\"Age\", IntegerType(), True),\n",
    "    StructField(\"Tenure\", IntegerType(), True),\n",
    "    StructField(\"Balance\", DoubleType(), True),\n",
    "    StructField(\"NumOfProducts\", IntegerType(), True),\n",
    "    StructField(\"HasCrCard\", IntegerType(), True),\n",
    "    StructField(\"IsActiveMember\", IntegerType(), True),\n",
    "    StructField(\"EstimatedSalary\", DoubleType(), True),\n",
    "    StructField(\"Exited\", IntegerType(), True)\n",
    "])\n"
   ]
  },
  {
   "cell_type": "code",
   "execution_count": 8,
   "id": "9d5d12ba-172e-4c29-8354-b586f3a6cbcb",
   "metadata": {},
   "outputs": [],
   "source": [
    "# Read CSV files without header\n",
    "df0 = spark.read.csv(\"file:///home/wick/fina_project/bank_data/*.csv\", header=False, schema=schema)"
   ]
  },
  {
   "cell_type": "code",
   "execution_count": 9,
   "id": "e0a0ffc2-f4c0-48ea-8faf-91dd73167edc",
   "metadata": {},
   "outputs": [
    {
     "name": "stdout",
     "output_type": "stream",
     "text": [
      "root\n",
      " |-- RowNumber: integer (nullable = true)\n",
      " |-- CustomerId: integer (nullable = true)\n",
      " |-- Surname: string (nullable = true)\n",
      " |-- CreditScore: integer (nullable = true)\n",
      " |-- Geography: string (nullable = true)\n",
      " |-- Gender: string (nullable = true)\n",
      " |-- Age: integer (nullable = true)\n",
      " |-- Tenure: integer (nullable = true)\n",
      " |-- Balance: double (nullable = true)\n",
      " |-- NumOfProducts: integer (nullable = true)\n",
      " |-- HasCrCard: integer (nullable = true)\n",
      " |-- IsActiveMember: integer (nullable = true)\n",
      " |-- EstimatedSalary: double (nullable = true)\n",
      " |-- Exited: integer (nullable = true)\n",
      "\n"
     ]
    }
   ],
   "source": [
    "\n",
    "# Show the DataFrame\n",
    "df0.printSchema()"
   ]
  },
  {
   "cell_type": "code",
   "execution_count": 10,
   "id": "96929c31-c6c5-4a4f-bc66-7546827c4177",
   "metadata": {},
   "outputs": [
    {
     "name": "stderr",
     "output_type": "stream",
     "text": [
      "                                                                                \r"
     ]
    },
    {
     "name": "stdout",
     "output_type": "stream",
     "text": [
      "+---------+----------+---------+-----------+---------+------+---+------+---------+-------------+---------+--------------+---------------+------+\n",
      "|RowNumber|CustomerId|  Surname|CreditScore|Geography|Gender|Age|Tenure|  Balance|NumOfProducts|HasCrCard|IsActiveMember|EstimatedSalary|Exited|\n",
      "+---------+----------+---------+-----------+---------+------+---+------+---------+-------------+---------+--------------+---------------+------+\n",
      "|        1|  15634602| Hargrave|        619|   France|Female| 42|     2|      0.0|            1|        1|             1|      101348.88|     1|\n",
      "|        2|  15647311|     Hill|        608|    Spain|Female| 41|     1| 83807.86|            1|        0|             1|      112542.58|     0|\n",
      "|        3|  15619304|     Onio|        502|   France|Female| 42|     8| 159660.8|            3|        1|             0|      113931.57|     1|\n",
      "|        4|  15701354|     Boni|        699|   France|Female| 39|     1|      0.0|            2|        0|             0|       93826.63|     0|\n",
      "|        5|  15737888| Mitchell|        850|    Spain|Female| 43|     2|125510.82|            1|        1|             1|        79084.1|     0|\n",
      "|        6|  15574012|      Chu|        645|    Spain|  Male| 44|     8|113755.78|            2|        1|             0|      149756.71|     1|\n",
      "|        7|  15592531| Bartlett|        822|   France|  Male| 50|     7|      0.0|            2|        1|             1|        10062.8|     0|\n",
      "|        8|  15656148|   Obinna|        376|  Germany|Female| 29|     4|115046.74|            4|        1|             0|      119346.88|     1|\n",
      "|        9|  15792365|       He|        501|   France|  Male| 44|     4|142051.07|            2|        0|             1|        74940.5|     0|\n",
      "|       10|  15592389|       H?|        684|   France|  Male| 27|     2|134603.88|            1|        1|             1|       71725.73|     0|\n",
      "|       11|  15767821|   Bearce|        528|   France|  Male| 31|     6|102016.72|            2|        0|             0|       80181.12|     0|\n",
      "|       12|  15737173|  Andrews|        497|    Spain|  Male| 24|     3|      0.0|            2|        1|             0|       76390.01|     0|\n",
      "|       13|  15632264|      Kay|        476|   France|Female| 34|    10|      0.0|            2|        1|             0|       26260.98|     0|\n",
      "|       14|  15691483|     Chin|        549|   France|Female| 25|     5|      0.0|            2|        0|             0|      190857.79|     0|\n",
      "|       15|  15600882|    Scott|        635|    Spain|Female| 35|     7|      0.0|            2|        1|             1|       65951.65|     0|\n",
      "|       16|  15643966|  Goforth|        616|  Germany|  Male| 45|     3|143129.41|            2|        0|             1|       64327.26|     0|\n",
      "|       17|  15737452|    Romeo|        653|  Germany|  Male| 58|     1|132602.88|            1|        1|             0|        5097.67|     1|\n",
      "|       18|  15788218|Henderson|        549|    Spain|Female| 24|     9|      0.0|            2|        1|             1|       14406.41|     0|\n",
      "|       19|  15661507|  Muldrow|        587|    Spain|  Male| 45|     6|      0.0|            1|        0|             0|      158684.81|     0|\n",
      "|       20|  15568982|      Hao|        726|   France|Female| 24|     6|      0.0|            2|        1|             1|       54724.03|     0|\n",
      "+---------+----------+---------+-----------+---------+------+---+------+---------+-------------+---------+--------------+---------------+------+\n",
      "only showing top 20 rows\n",
      "\n"
     ]
    }
   ],
   "source": [
    "# Show the DataFrame\n",
    "df0.show()"
   ]
  },
  {
   "cell_type": "code",
   "execution_count": 11,
   "id": "c77aa212-6121-4929-b4cb-38bb47a730a3",
   "metadata": {},
   "outputs": [
    {
     "data": {
      "text/plain": [
       "18000"
      ]
     },
     "execution_count": 11,
     "metadata": {},
     "output_type": "execute_result"
    }
   ],
   "source": [
    "# Count the number of rows in the DataFrame\n",
    "df0.count()\n"
   ]
  },
  {
   "cell_type": "code",
   "execution_count": 12,
   "id": "654a60b0-212e-44b4-83b3-5b0b35476b7a",
   "metadata": {},
   "outputs": [
    {
     "name": "stderr",
     "output_type": "stream",
     "text": [
      "                                                                                \r"
     ]
    },
    {
     "data": {
      "text/plain": [
       "10000"
      ]
     },
     "execution_count": 12,
     "metadata": {},
     "output_type": "execute_result"
    }
   ],
   "source": [
    "df1 = df0.dropDuplicates()\n",
    "\n",
    "# Optionally, show the deduplicated DataFrame\n",
    "df1.count()"
   ]
  },
  {
   "cell_type": "code",
   "execution_count": 13,
   "id": "03259318-85c5-4b84-8c61-61a1604e5064",
   "metadata": {},
   "outputs": [
    {
     "name": "stdout",
     "output_type": "stream",
     "text": [
      "+---------+----------+-------+-----------+---------+------+---+------+-------+-------------+---------+--------------+---------------+------+\n",
      "|RowNumber|CustomerId|Surname|CreditScore|Geography|Gender|Age|Tenure|Balance|NumOfProducts|HasCrCard|IsActiveMember|EstimatedSalary|Exited|\n",
      "+---------+----------+-------+-----------+---------+------+---+------+-------+-------------+---------+--------------+---------------+------+\n",
      "|        0|         0|      0|          0|        0|     0|  0|     0|      0|            0|        0|             0|              0|     0|\n",
      "+---------+----------+-------+-----------+---------+------+---+------+-------+-------------+---------+--------------+---------------+------+\n",
      "\n"
     ]
    }
   ],
   "source": [
    "df1.select([count(when(isnull(c), c)).alias(c) for c in df1.columns]).show()"
   ]
  },
  {
   "cell_type": "code",
   "execution_count": 14,
   "id": "8bb046c8-9d31-4453-b479-2bd8f2f5ef76",
   "metadata": {},
   "outputs": [
    {
     "name": "stdout",
     "output_type": "stream",
     "text": [
      "+---------+----------+----------------+-----------+---------+------+---+------+---------+-------------+---------+--------------+---------------+------+-------+---------+\n",
      "|RowNumber|CustomerId|         Surname|CreditScore|Geography|Gender|Age|Tenure|  Balance|NumOfProducts|HasCrCard|IsActiveMember|EstimatedSalary|Exited|IS_Male|IS_Female|\n",
      "+---------+----------+----------------+-----------+---------+------+---+------+---------+-------------+---------+--------------+---------------+------+-------+---------+\n",
      "|      130|  15591607|          Fernie|        770|   France|  Male| 24|     9|101827.07|            1|        1|             0|      167256.35|     0|      1|        0|\n",
      "|      360|  15592386|        Campbell|        520|   France|  Male| 58|     3|      0.0|            2|        0|             1|       32790.02|     0|      1|        0|\n",
      "|      721|  15721658|         Fleming|        672|    Spain|Female| 56|     2|209767.31|            2|        1|             1|      150694.42|     1|      0|        1|\n",
      "|      771|  15584091|           Pitts|        742|  Germany|Female| 36|     2|129748.54|            2|        0|             0|       47271.61|     1|      0|        1|\n",
      "|      907|  15814275|Zikoranachidimma|        685|   France|  Male| 33|     6|174912.72|            1|        1|             1|       43932.54|     0|      1|        0|\n",
      "|      937|  15613630|            Tang|        775|   France|  Male| 52|     8|109922.61|            1|        1|             1|       96823.32|     1|      1|        0|\n",
      "|     1638|  15678626|         Okonkwo|        538|    Spain|Female| 31|     0|      0.0|            2|        0|             0|      179453.66|     0|      0|        1|\n",
      "|     2011|  15612050|     Castiglione|        556|    Spain|Female| 48|     8|168522.37|            1|        1|             1|      151310.16|     0|      0|        1|\n",
      "|     2032|  15591357|          Cowger|        765|   France|  Male| 51|     3| 123372.3|            1|        1|             1|      115429.32|     0|      1|        0|\n",
      "|     2233|  15671969|         Pruneda|        649|    Spain|  Male| 36|     8|      0.0|            2|        1|             0|      161668.15|     0|      1|        0|\n",
      "+---------+----------+----------------+-----------+---------+------+---+------+---------+-------------+---------+--------------+---------------+------+-------+---------+\n",
      "only showing top 10 rows\n",
      "\n"
     ]
    }
   ],
   "source": [
    "df2 = df1.withColumn('IS_Male',when(col('Gender') == 'Male', 1)).fillna({'IS_Male': 0})\n",
    "df3 = df2.withColumn('IS_Female',when(col('Gender') == 'Female', 1)).fillna({'IS_Female': 0})\n",
    "df3.show(10)"
   ]
  },
  {
   "cell_type": "code",
   "execution_count": 15,
   "id": "384a48c3-34bd-4e21-acc1-a7247bcb2633",
   "metadata": {},
   "outputs": [
    {
     "name": "stdout",
     "output_type": "stream",
     "text": [
      "+---------+-----+\n",
      "|geography|count|\n",
      "+---------+-----+\n",
      "|  Germany| 2509|\n",
      "|   France| 5014|\n",
      "|    Spain| 2477|\n",
      "+---------+-----+\n",
      "\n"
     ]
    }
   ],
   "source": [
    "df3.groupBy(\"geography\").count().show()"
   ]
  },
  {
   "cell_type": "code",
   "execution_count": 16,
   "id": "2e42eac3-cb98-485f-98c1-3daa924eddbb",
   "metadata": {},
   "outputs": [
    {
     "name": "stdout",
     "output_type": "stream",
     "text": [
      "+---------+----------+----------------+-----------+---------+------+---+------+---------+-------------+---------+--------------+---------------+------+-------+---------+----------------+---------------+-----------------+\n",
      "|RowNumber|CustomerId|         Surname|CreditScore|Geography|Gender|Age|Tenure|  Balance|NumOfProducts|HasCrCard|IsActiveMember|EstimatedSalary|Exited|IS_Male|IS_Female|Geography_France|Geography_Spain|Geography_Germany|\n",
      "+---------+----------+----------------+-----------+---------+------+---+------+---------+-------------+---------+--------------+---------------+------+-------+---------+----------------+---------------+-----------------+\n",
      "|      130|  15591607|          Fernie|        770|   France|  Male| 24|     9|101827.07|            1|        1|             0|      167256.35|     0|      1|        0|               1|              0|                0|\n",
      "|      360|  15592386|        Campbell|        520|   France|  Male| 58|     3|      0.0|            2|        0|             1|       32790.02|     0|      1|        0|               1|              0|                0|\n",
      "|      721|  15721658|         Fleming|        672|    Spain|Female| 56|     2|209767.31|            2|        1|             1|      150694.42|     1|      0|        1|               0|              1|                0|\n",
      "|      771|  15584091|           Pitts|        742|  Germany|Female| 36|     2|129748.54|            2|        0|             0|       47271.61|     1|      0|        1|               0|              0|                1|\n",
      "|      907|  15814275|Zikoranachidimma|        685|   France|  Male| 33|     6|174912.72|            1|        1|             1|       43932.54|     0|      1|        0|               1|              0|                0|\n",
      "|      937|  15613630|            Tang|        775|   France|  Male| 52|     8|109922.61|            1|        1|             1|       96823.32|     1|      1|        0|               1|              0|                0|\n",
      "|     1638|  15678626|         Okonkwo|        538|    Spain|Female| 31|     0|      0.0|            2|        0|             0|      179453.66|     0|      0|        1|               0|              1|                0|\n",
      "|     2011|  15612050|     Castiglione|        556|    Spain|Female| 48|     8|168522.37|            1|        1|             1|      151310.16|     0|      0|        1|               0|              1|                0|\n",
      "|     2032|  15591357|          Cowger|        765|   France|  Male| 51|     3| 123372.3|            1|        1|             1|      115429.32|     0|      1|        0|               1|              0|                0|\n",
      "|     2233|  15671969|         Pruneda|        649|    Spain|  Male| 36|     8|      0.0|            2|        1|             0|      161668.15|     0|      1|        0|               0|              1|                0|\n",
      "+---------+----------+----------------+-----------+---------+------+---+------+---------+-------------+---------+--------------+---------------+------+-------+---------+----------------+---------------+-----------------+\n",
      "only showing top 10 rows\n",
      "\n"
     ]
    }
   ],
   "source": [
    "df4 = df3.withColumn('Geography_France',when(col('geography') == 'France', 1)).fillna({'Geography_France': 0})\n",
    "df5 = df4.withColumn('Geography_Spain',when(col('geography') == 'Spain', 1)).fillna({'Geography_Spain': 0})\n",
    "df6 = df5.withColumn('Geography_Germany',when(col('geography') == 'Germany', 1)).fillna({'Geography_Germany': 0})\n",
    "df6.show(10)"
   ]
  },
  {
   "cell_type": "code",
   "execution_count": 35,
   "id": "5a1c4a6c-9cc3-4601-8337-adecfb2a4da2",
   "metadata": {},
   "outputs": [
    {
     "name": "stderr",
     "output_type": "stream",
     "text": [
      "/tmp/ipykernel_7794/1449686584.py:9: FutureWarning: \n",
      "\n",
      "`shade` is now deprecated in favor of `fill`; setting `fill=True`.\n",
      "This will become an error in seaborn v0.14.0; please update your code.\n",
      "\n",
      "  sns.kdeplot(age_exited_1[\"Age\"], color=\"darkturquoise\", shade=True, label='Exited')\n",
      "/tmp/ipykernel_7794/1449686584.py:10: FutureWarning: \n",
      "\n",
      "`shade` is now deprecated in favor of `fill`; setting `fill=True`.\n",
      "This will become an error in seaborn v0.14.0; please update your code.\n",
      "\n",
      "  sns.kdeplot(age_exited_0[\"Age\"], color=\"lightcoral\", shade=True, label='Still Active')\n"
     ]
    },
    {
     "data": {
      "image/png": "[encoded data removed]",
      "text/plain": [
       "<Figure size 1000x700 with 1 Axes>"
      ]
     },
     "metadata": {},
     "output_type": "display_data"
    }
   ],
   "source": [
    "import pandas as pd\n",
    "import seaborn as sns\n",
    "import matplotlib.pyplot as plt\n",
    "\n",
    "age_exited_1 = df6.filter(df6.Exited == 1).select(\"Age\").toPandas()\n",
    "age_exited_0 = df6.filter(df6.Exited == 0).select(\"Age\").toPandas()\n",
    "\n",
    "plt.figure(figsize=(10, 7))\n",
    "sns.kdeplot(age_exited_1[\"Age\"], color=\"darkturquoise\", shade=True, label='Exited')\n",
    "sns.kdeplot(age_exited_0[\"Age\"], color=\"lightcoral\", shade=True, label='Still Active')\n",
    "\n",
    "plt.title('Age VS Exited')\n",
    "plt.xlabel('Age')\n",
    "plt.xlim(0, 90)\n",
    "plt.legend()\n",
    "plt.show()"
   ]
  },
  {
   "cell_type": "markdown",
   "id": "e9341bf7-4fc9-478e-a502-1a460ae7514c",
   "metadata": {},
   "source": [
    "### conclusion\n",
    "\n",
    "\n",
    "#### 1- Risk of Churn (Exit) is higher among customers in their 40s and early 50s. This age group seems to show the most dissatisfaction or    higher exit rate.\n",
    "#### 2- Younger customers are more likely to stay with the service, with a relatively lower churn rate.\n",
    "#### 3- For older customers, after 50, the likelihood of exiting decreases, but the number of older customers overall might also be smaller."
   ]
  },
  {
   "cell_type": "code",
   "execution_count": 17,
   "id": "25063718-1c80-4118-9ec4-4e4c03afd58d",
   "metadata": {},
   "outputs": [
    {
     "name": "stdout",
     "output_type": "stream",
     "text": [
      "+---------+----------+----------------+-----------+---------+------+---+------+---------+-------------+---------+--------------+---------------+------+-------+---------+----------------+---------------+-----------------+-----------+\n",
      "|RowNumber|CustomerId|         Surname|CreditScore|Geography|Gender|Age|Tenure|  Balance|NumOfProducts|HasCrCard|IsActiveMember|EstimatedSalary|Exited|IS_Male|IS_Female|Geography_France|Geography_Spain|Geography_Germany|Agecategory|\n",
      "+---------+----------+----------------+-----------+---------+------+---+------+---------+-------------+---------+--------------+---------------+------+-------+---------+----------------+---------------+-----------------+-----------+\n",
      "|      130|  15591607|          Fernie|        770|   France|  Male| 24|     9|101827.07|            1|        1|             0|      167256.35|     0|      1|        0|               1|              0|                0|          0|\n",
      "|      360|  15592386|        Campbell|        520|   France|  Male| 58|     3|      0.0|            2|        0|             1|       32790.02|     0|      1|        0|               1|              0|                0|          0|\n",
      "|      721|  15721658|         Fleming|        672|    Spain|Female| 56|     2|209767.31|            2|        1|             1|      150694.42|     1|      0|        1|               0|              1|                0|          0|\n",
      "|      771|  15584091|           Pitts|        742|  Germany|Female| 36|     2|129748.54|            2|        0|             0|       47271.61|     1|      0|        1|               0|              0|                1|          0|\n",
      "|      907|  15814275|Zikoranachidimma|        685|   France|  Male| 33|     6|174912.72|            1|        1|             1|       43932.54|     0|      1|        0|               1|              0|                0|          0|\n",
      "|      937|  15613630|            Tang|        775|   France|  Male| 52|     8|109922.61|            1|        1|             1|       96823.32|     1|      1|        0|               1|              0|                0|          0|\n",
      "|     1638|  15678626|         Okonkwo|        538|    Spain|Female| 31|     0|      0.0|            2|        0|             0|      179453.66|     0|      0|        1|               0|              1|                0|          0|\n",
      "|     2011|  15612050|     Castiglione|        556|    Spain|Female| 48|     8|168522.37|            1|        1|             1|      151310.16|     0|      0|        1|               0|              1|                0|          1|\n",
      "|     2032|  15591357|          Cowger|        765|   France|  Male| 51|     3| 123372.3|            1|        1|             1|      115429.32|     0|      1|        0|               1|              0|                0|          0|\n",
      "|     2233|  15671969|         Pruneda|        649|    Spain|  Male| 36|     8|      0.0|            2|        1|             0|      161668.15|     0|      1|        0|               0|              1|                0|          0|\n",
      "+---------+----------+----------------+-----------+---------+------+---+------+---------+-------------+---------+--------------+---------------+------+-------+---------+----------------+---------------+-----------------+-----------+\n",
      "only showing top 10 rows\n",
      "\n"
     ]
    }
   ],
   "source": [
    "from pyspark.sql.functions import col, when\n",
    "\n",
    "# Assuming df4 is your DataFrame with the 'Age' column\n",
    "df7 = df6.withColumn('Agecategory', when((col('Age') >= 45) & (col('Age') <= 50), 1).otherwise(0))\n",
    "\n",
    "# Show the result\n",
    "df7.show(10)"
   ]
  },
  {
   "cell_type": "code",
   "execution_count": 32,
   "id": "030e655c-bfa1-49ad-b5bb-eb3c1650f150",
   "metadata": {},
   "outputs": [
    {
     "name": "stderr",
     "output_type": "stream",
     "text": [
      "                                                                                \r"
     ]
    },
    {
     "data": {
      "text/plain": [
       "850"
      ]
     },
     "execution_count": 32,
     "metadata": {},
     "output_type": "execute_result"
    }
   ],
   "source": [
    "df1.agg(f.max(\"CreditScore\")).collect()[0][0]"
   ]
  },
  {
   "cell_type": "code",
   "execution_count": 37,
   "id": "33bd838b-d30f-42bb-9d22-27d954af0df2",
   "metadata": {},
   "outputs": [
    {
     "name": "stderr",
     "output_type": "stream",
     "text": [
      "/tmp/ipykernel_7794/2294174381.py:5: FutureWarning: \n",
      "\n",
      "`shade` is now deprecated in favor of `fill`; setting `fill=True`.\n",
      "This will become an error in seaborn v0.14.0; please update your code.\n",
      "\n",
      "  sns.kdeplot(credit_exited_1[\"CreditScore\"], color=\"darkturquoise\", shade=True, label='Exited')\n",
      "/tmp/ipykernel_7794/2294174381.py:6: FutureWarning: \n",
      "\n",
      "`shade` is now deprecated in favor of `fill`; setting `fill=True`.\n",
      "This will become an error in seaborn v0.14.0; please update your code.\n",
      "\n",
      "  sns.kdeplot(credit_exited_0[\"CreditScore\"], color=\"lightcoral\", shade=True, label='Still Active')\n"
     ]
    },
    {
     "data": {
      "image/png": "[encoded data removed]",
      "text/plain": [
       "<Figure size 1000x700 with 1 Axes>"
      ]
     },
     "metadata": {},
     "output_type": "display_data"
    }
   ],
   "source": [
    "credit_exited_1 = df7.filter(df7.Exited == 1).select(\"CreditScore\").toPandas()\n",
    "credit_exited_0 = df7.filter(df7.Exited == 0).select(\"CreditScore\").toPandas()\n",
    "\n",
    "plt.figure(figsize=(10, 7))\n",
    "sns.kdeplot(credit_exited_1[\"CreditScore\"], color=\"darkturquoise\", shade=True, label='Exited')\n",
    "sns.kdeplot(credit_exited_0[\"CreditScore\"], color=\"lightcoral\", shade=True, label='Still Active')\n",
    "\n",
    "plt.title('CreditScore VS Exited')\n",
    "plt.xlabel('CreditScore')\n",
    "plt.xlim(0, 1000)\n",
    "plt.legend()\n",
    "plt.show()"
   ]
  },
  {
   "cell_type": "markdown",
   "id": "524f1be1-cca4-47a6-9e85-4bf771f6dcf3",
   "metadata": {},
   "source": [
    "#### 8- Features Selection"
   ]
  },
  {
   "cell_type": "code",
   "execution_count": 18,
   "id": "55db869f-5914-4429-bf45-3d58386b798f",
   "metadata": {},
   "outputs": [],
   "source": [
    "df8 = df7.drop('RowNumber')\\\n",
    "         .drop('CustomerId')\\\n",
    "         .drop('Surname')\\\n",
    "         .drop('Geography')\\\n",
    "         .drop('Gender')\\\n",
    "         "
   ]
  },
  {
   "cell_type": "code",
   "execution_count": 19,
   "id": "5c68b222-1ebd-4881-88ce-9ddc41136a5f",
   "metadata": {},
   "outputs": [
    {
     "data": {
      "text/plain": [
       "['CreditScore',\n",
       " 'Age',\n",
       " 'Tenure',\n",
       " 'Balance',\n",
       " 'NumOfProducts',\n",
       " 'HasCrCard',\n",
       " 'IsActiveMember',\n",
       " 'EstimatedSalary',\n",
       " 'Exited',\n",
       " 'IS_Male',\n",
       " 'IS_Female',\n",
       " 'Geography_France',\n",
       " 'Geography_Spain',\n",
       " 'Geography_Germany',\n",
       " 'Agecategory']"
      ]
     },
     "execution_count": 19,
     "metadata": {},
     "output_type": "execute_result"
    }
   ],
   "source": [
    "df8.columns"
   ]
  },
  {
   "cell_type": "code",
   "execution_count": 20,
   "id": "7fe63d4a-d439-4011-aac1-31828fbe9c07",
   "metadata": {},
   "outputs": [
    {
     "name": "stderr",
     "output_type": "stream",
     "text": [
      "[Stage 31:=============================>                            (2 + 2) / 4]\r"
     ]
    },
    {
     "name": "stdout",
     "output_type": "stream",
     "text": [
      "+-----------+---+------+---------+-------------+---------+--------------+---------------+------+-------+---------+----------------+---------------+-----------------+-----------+\n",
      "|CreditScore|Age|Tenure|  Balance|NumOfProducts|HasCrCard|IsActiveMember|EstimatedSalary|Exited|IS_Male|IS_Female|Geography_France|Geography_Spain|Geography_Germany|Agecategory|\n",
      "+-----------+---+------+---------+-------------+---------+--------------+---------------+------+-------+---------+----------------+---------------+-----------------+-----------+\n",
      "|        770| 24|     9|101827.07|            1|        1|             0|      167256.35|     0|      1|        0|               1|              0|                0|          0|\n",
      "|        520| 58|     3|      0.0|            2|        0|             1|       32790.02|     0|      1|        0|               1|              0|                0|          0|\n",
      "|        672| 56|     2|209767.31|            2|        1|             1|      150694.42|     1|      0|        1|               0|              1|                0|          0|\n",
      "|        742| 36|     2|129748.54|            2|        0|             0|       47271.61|     1|      0|        1|               0|              0|                1|          0|\n",
      "|        685| 33|     6|174912.72|            1|        1|             1|       43932.54|     0|      1|        0|               1|              0|                0|          0|\n",
      "|        775| 52|     8|109922.61|            1|        1|             1|       96823.32|     1|      1|        0|               1|              0|                0|          0|\n",
      "|        538| 31|     0|      0.0|            2|        0|             0|      179453.66|     0|      0|        1|               0|              1|                0|          0|\n",
      "|        556| 48|     8|168522.37|            1|        1|             1|      151310.16|     0|      0|        1|               0|              1|                0|          1|\n",
      "|        765| 51|     3| 123372.3|            1|        1|             1|      115429.32|     0|      1|        0|               1|              0|                0|          0|\n",
      "|        649| 36|     8|      0.0|            2|        1|             0|      161668.15|     0|      1|        0|               0|              1|                0|          0|\n",
      "|        783| 59|     9|126224.87|            1|        1|             1|        4423.63|     0|      0|        1|               0|              1|                0|          0|\n",
      "|        549| 41|     9|  95020.8|            3|        1|             1|      131710.59|     1|      1|        0|               0|              0|                1|          0|\n",
      "|        625| 39|     5|      0.0|            2|        1|             0|       32615.21|     0|      0|        1|               1|              0|                0|          0|\n",
      "|        673| 36|     5| 73088.06|            2|        0|             0|      196142.26|     0|      1|        0|               0|              0|                1|          0|\n",
      "|        805| 46|     6|118022.06|            3|        1|             0|      162643.15|     1|      1|        0|               1|              0|                0|          1|\n",
      "|        515| 25|     7| 79543.59|            1|        0|             1|       38772.82|     0|      0|        1|               1|              0|                0|          0|\n",
      "|        616| 39|     2|121704.32|            2|        1|             0|        55556.3|     0|      1|        0|               0|              0|                1|          0|\n",
      "|        604| 33|     3|      0.0|            1|        1|             0|       42171.13|     1|      1|        0|               1|              0|                0|          0|\n",
      "|        640| 45|     1|      0.0|            1|        1|             1|       10908.33|     0|      1|        0|               1|              0|                0|          1|\n",
      "|        788| 55|     3|      0.0|            1|        0|             1|       13288.46|     1|      1|        0|               1|              0|                0|          0|\n",
      "+-----------+---+------+---------+-------------+---------+--------------+---------------+------+-------+---------+----------------+---------------+-----------------+-----------+\n",
      "only showing top 20 rows\n",
      "\n"
     ]
    },
    {
     "name": "stderr",
     "output_type": "stream",
     "text": [
      "                                                                                \r"
     ]
    }
   ],
   "source": [
    "df8.show()"
   ]
  },
  {
   "cell_type": "code",
   "execution_count": 85,
   "id": "0c16c69c-626b-458e-a358-c0d9d6ce1468",
   "metadata": {},
   "outputs": [
    {
     "name": "stdout",
     "output_type": "stream",
     "text": [
      "+------+-----+\n",
      "|Exited|count|\n",
      "+------+-----+\n",
      "|     1| 2037|\n",
      "|     0| 7963|\n",
      "+------+-----+\n",
      "\n"
     ]
    }
   ],
   "source": [
    "df1.groupBy(\"Exited\").count().show()\n"
   ]
  },
  {
   "cell_type": "code",
   "execution_count": 22,
   "id": "02570715-7d45-412e-b588-b02ef2e08cb5",
   "metadata": {},
   "outputs": [],
   "source": [
    "from pyspark.ml import Pipeline\n",
    "from pyspark.ml.feature import VectorAssembler, StringIndexer\n",
    "from pyspark.ml.classification import LogisticRegression\n",
    "from pyspark.ml.evaluation import BinaryClassificationEvaluator\n",
    "from pyspark.sql import functions as F\n",
    "\n",
    "# Handle imbalance: Perform undersampling\n"
   ]
  },
  {
   "cell_type": "code",
   "execution_count": 23,
   "id": "2669a34e-a7d5-4cea-9820-6f09b40f740b",
   "metadata": {},
   "outputs": [],
   "source": [
    "def undersample(df, target_col):\n",
    "    # Count each class\n",
    "    exited_count = df.groupBy(target_col).count().collect()\n",
    "    class_1_count = exited_count[0][1] if exited_count[0][0] == 1 else exited_count[1][1]\n",
    "    class_0_count = exited_count[0][1] if exited_count[0][0] == 0 else exited_count[1][1]\n",
    "\n",
    "    # Calculate ratio of class 1 and class 0\n",
    "    sampling_ratio = class_1_count / class_0_count\n",
    "\n",
    "    # Perform undersampling on class 0\n",
    "    class_0_df = df.filter(F.col(target_col) == 0).sample(sampling_ratio, seed=42)\n",
    "    class_1_df = df.filter(F.col(target_col) == 1)\n",
    "\n",
    "    # Combine the two classes back\n",
    "    return class_0_df.union(class_1_df)"
   ]
  },
  {
   "cell_type": "code",
   "execution_count": 24,
   "id": "9a9d851c-4301-45b7-99e4-fa2e6dc6d7d7",
   "metadata": {},
   "outputs": [],
   "source": [
    "# Load your processed data (assuming it's already preprocessed)\n",
    "# df is your DataFrame with all the features ready for training\n",
    "\n",
    "# Handle imbalance by undersampling the majority class\n",
    "df_balanced = undersample(df8, \"Exited\")\n"
   ]
  },
  {
   "cell_type": "code",
   "execution_count": 25,
   "id": "9a0a56c6-882c-433a-8895-1bff32b2b75e",
   "metadata": {},
   "outputs": [],
   "source": [
    "# Define the features and label\n",
    "feature_columns = ['CreditScore', 'Age', 'Tenure', 'Balance', 'NumOfProducts', 'HasCrCard', 'IsActiveMember', 'EstimatedSalary', 'IS_Male', 'IS_Female', 'Geography_France', 'Geography_Spain', 'Geography_Germany']\n",
    "target_column = 'Exited'\n",
    "\n",
    "# StringIndexer for categorical columns (optional, as you already have encoded columns)\n",
    "# Assemble features into a single vector column\n",
    "assembler = VectorAssembler(inputCols=feature_columns, outputCol=\"features\")\n",
    "\n"
   ]
  },
  {
   "cell_type": "code",
   "execution_count": 26,
   "id": "f52aab2c-66c5-42f1-8495-b082160f8672",
   "metadata": {},
   "outputs": [],
   "source": [
    "# Logistic Regression Model\n",
    "lr = LogisticRegression(labelCol=target_column, featuresCol=\"features\", maxIter=10)\n"
   ]
  },
  {
   "cell_type": "code",
   "execution_count": 27,
   "id": "77484275-b6ba-4345-afbe-78df70c17bc3",
   "metadata": {},
   "outputs": [],
   "source": [
    "# Define the pipeline\n",
    "pipeline = Pipeline(stages=[assembler, lr])\n"
   ]
  },
  {
   "cell_type": "code",
   "execution_count": 28,
   "id": "7a6a3f53-a87a-44a3-bcbb-c47d437f2d73",
   "metadata": {},
   "outputs": [],
   "source": [
    "\n",
    "# Split the data into training and testing sets\n",
    "train_df, test_df = df_balanced.randomSplit([0.8, 0.2], seed=42)\n"
   ]
  },
  {
   "cell_type": "code",
   "execution_count": 29,
   "id": "c5828031-ef44-4a9e-9495-2217a7fc4922",
   "metadata": {},
   "outputs": [
    {
     "name": "stderr",
     "output_type": "stream",
     "text": [
      "24/09/25 18:50:16 WARN InstanceBuilder: Failed to load implementation from:dev.ludovic.netlib.blas.VectorBLAS\n"
     ]
    }
   ],
   "source": [
    "# Train the model\n",
    "model = pipeline.fit(train_df)\n"
   ]
  },
  {
   "cell_type": "code",
   "execution_count": 30,
   "id": "bd8eea09-294f-479e-997d-dcc49c27a265",
   "metadata": {},
   "outputs": [
    {
     "name": "stderr",
     "output_type": "stream",
     "text": [
      "24/09/25 18:50:33 WARN SparkStringUtils: Truncated the string representation of a plan since it was too large. This behavior can be adjusted by setting 'spark.sql.debug.maxToStringFields'.\n",
      "                                                                                \r"
     ]
    }
   ],
   "source": [
    "\n",
    "# Predict on the training data and calculate accuracy\n",
    "train_predictions = model.transform(train_df)\n",
    "train_accuracy = train_predictions.filter(train_predictions[target_column] == train_predictions.prediction).count() / float(train_df.count())\n"
   ]
  },
  {
   "cell_type": "code",
   "execution_count": 31,
   "id": "6cb86a5a-a323-46b1-864c-38e4e6e1ccae",
   "metadata": {},
   "outputs": [],
   "source": [
    "# Predict on the test data\n",
    "test_df = test_df.drop(target_column)  # Drop target column for the test set\n"
   ]
  },
  {
   "cell_type": "code",
   "execution_count": 36,
   "id": "c792f719-5309-40d8-8ed2-54ecb0f6296f",
   "metadata": {},
   "outputs": [
    {
     "name": "stdout",
     "output_type": "stream",
     "text": [
      "Training Accuracy (AUC): 0.707605800532702\n",
      "Test Accuracy: 0.7168597168597168\n"
     ]
    }
   ],
   "source": [
    "\n",
    "\n",
    "\n",
    "test_predictions = model.transform(test_df)\n",
    "\n",
    "# Add \"PredictedExited\" column with integer type\n",
    "test_predictions = test_predictions.withColumn(\"PredictedExited\", F.col(\"prediction\").cast(\"int\"))\n",
    "\n",
    "# Calculate accuracy on the test data by comparing the actual and predicted values\n",
    "test_correct = test_predictions.filter(F.col(\"Exited\") == F.col(\"PredictedExited\")).count()\n",
    "test_total = test_predictions.count()\n",
    "test_accuracy = test_correct / float(test_total)\n",
    "\n",
    "# Print the results\n",
    "print(f\"Training Accuracy (AUC): {train_accuracy}\")\n",
    "print(f\"Test Accuracy: {test_accuracy}\")\n"
   ]
  },
  {
   "cell_type": "code",
   "execution_count": 45,
   "id": "254740e0-f06f-4d62-89ff-8ea33c787cd6",
   "metadata": {},
   "outputs": [
    {
     "name": "stdout",
     "output_type": "stream",
     "text": [
      "root\n",
      " |-- CreditScore: integer (nullable = true)\n",
      " |-- Age: integer (nullable = true)\n",
      " |-- Tenure: integer (nullable = true)\n",
      " |-- Balance: double (nullable = true)\n",
      " |-- NumOfProducts: integer (nullable = true)\n",
      " |-- HasCrCard: integer (nullable = true)\n",
      " |-- IsActiveMember: integer (nullable = true)\n",
      " |-- EstimatedSalary: double (nullable = true)\n",
      " |-- IS_Male: integer (nullable = false)\n",
      " |-- IS_Female: integer (nullable = false)\n",
      " |-- Geography_France: integer (nullable = false)\n",
      " |-- Geography_Spain: integer (nullable = false)\n",
      " |-- Geography_Germany: integer (nullable = false)\n",
      " |-- Agecategory: integer (nullable = false)\n",
      " |-- PredictedExited: integer (nullable = true)\n",
      "\n"
     ]
    }
   ],
   "source": [
    "test_predictions_clean = test_predictions.drop(\"features\", \"rawPrediction\", \"probability\", \"prediction\")\n",
    "\n",
    "# Check if the columns were actually dropped\n",
    "test_predictions_clean.printSchema()"
   ]
  },
  {
   "cell_type": "code",
   "execution_count": 46,
   "id": "53929312-98bd-4b0c-b471-b7ee81ea2a59",
   "metadata": {},
   "outputs": [
    {
     "name": "stdout",
     "output_type": "stream",
     "text": [
      "+-----------+---+------+---------+-------------+---------+--------------+---------------+-------+---------+----------------+---------------+-----------------+-----------+---------------+\n",
      "|CreditScore|Age|Tenure|Balance  |NumOfProducts|HasCrCard|IsActiveMember|EstimatedSalary|IS_Male|IS_Female|Geography_France|Geography_Spain|Geography_Germany|Agecategory|PredictedExited|\n",
      "+-----------+---+------+---------+-------------+---------+--------------+---------------+-------+---------+----------------+---------------+-----------------+-----------+---------------+\n",
      "|411        |54 |9     |0.0      |1            |0        |1             |76621.49       |0      |1        |1               |0              |0                |0          |1              |\n",
      "|422        |33 |2     |0.0      |2            |1        |0             |102655.31      |0      |1        |1               |0              |0                |0          |0              |\n",
      "|426        |34 |9     |0.0      |2            |1        |0             |107876.91      |1      |0        |1               |0              |0                |0          |0              |\n",
      "|430        |38 |8     |153058.64|1            |1        |0             |99377.27       |0      |1        |0               |0              |1                |0          |1              |\n",
      "|434        |41 |4     |108128.52|1            |0        |1             |56784.11       |1      |0        |1               |0              |0                |0          |0              |\n",
      "|436        |43 |5     |0.0      |2            |1        |1             |35687.43       |1      |0        |0               |1              |0                |0          |0              |\n",
      "|444        |34 |2     |144318.97|1            |1        |0             |112668.06      |1      |0        |1               |0              |0                |0          |0              |\n",
      "|449        |32 |0     |155619.36|1            |1        |1             |166692.03      |1      |0        |0               |1              |0                |0          |0              |\n",
      "|456        |32 |9     |133060.63|1            |1        |1             |125167.92      |1      |0        |0               |0              |1                |0          |0              |\n",
      "|457        |38 |6     |0.0      |2            |1        |0             |173219.09      |0      |1        |0               |1              |0                |0          |1              |\n",
      "|457        |38 |7     |164496.99|1            |1        |1             |163327.27      |0      |1        |1               |0              |0                |0          |0              |\n",
      "|459        |26 |4     |149879.66|1            |0        |0             |50016.17       |1      |0        |1               |0              |0                |0          |0              |\n",
      "|461        |35 |8     |0.0      |1            |1        |0             |132295.95      |0      |1        |0               |1              |0                |0          |0              |\n",
      "|463        |35 |2     |101257.16|1            |1        |1             |118113.64      |1      |0        |1               |0              |0                |0          |0              |\n",
      "|468        |29 |1     |111681.98|2            |1        |1             |195711.16      |1      |0        |0               |0              |1                |0          |0              |\n",
      "|471        |42 |3     |164951.56|1            |1        |0             |190531.77      |1      |0        |1               |0              |0                |0          |1              |\n",
      "|477        |48 |2     |129120.64|1            |0        |1             |26475.79       |0      |1        |0               |1              |0                |1          |1              |\n",
      "|489        |38 |8     |0.0      |2            |0        |1             |196990.79      |1      |0        |1               |0              |0                |0          |0              |\n",
      "|496        |29 |2     |0.0      |2            |1        |0             |55389.59       |1      |0        |0               |1              |0                |0          |0              |\n",
      "|497        |34 |2     |0.0      |2            |1        |1             |83087.13       |1      |0        |1               |0              |0                |0          |0              |\n",
      "+-----------+---+------+---------+-------------+---------+--------------+---------------+-------+---------+----------------+---------------+-----------------+-----------+---------------+\n",
      "only showing top 20 rows\n",
      "\n"
     ]
    }
   ],
   "source": [
    "test_predictions_clean.show(truncate=False)"
   ]
  },
  {
   "cell_type": "code",
   "execution_count": 47,
   "id": "eb7ba902-27a0-4cd8-9f2e-f83875d1db2d",
   "metadata": {},
   "outputs": [
    {
     "name": "stderr",
     "output_type": "stream",
     "text": [
      "                                                                                \r"
     ]
    }
   ],
   "source": [
    "output_path = \"/home/wick/fina_project/churn_data.csv\"\n",
    "test_predictions_clean.coalesce(1).write.mode(\"append\").option(\"header\", \"true\").csv(output_path)"
   ]
  }
 ],
 "metadata": {
  "kernelspec": {
   "display_name": "Python 3 (ipykernel)",
   "language": "python",
   "name": "python3"
  },
  "language_info": {
   "codemirror_mode": {
    "name": "ipython",
    "version": 3
   },
   "file_extension": ".py",
   "mimetype": "text/x-python",
   "name": "python",
   "nbconvert_exporter": "python",
   "pygments_lexer": "ipython3",
   "version": "3.12.4"
  }
 },
 "nbformat": 4,
 "nbformat_minor": 5
}
